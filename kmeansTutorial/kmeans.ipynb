{
 "cells": [
  {
   "cell_type": "markdown",
   "metadata": {
    "vscode": {
     "languageId": "plaintext"
    }
   },
   "source": [
    "Exercises\n",
    "\n",
    "1.1\n",
    "\n",
    "Implement K-means described in k-means-clustering-Wikipedia.2002271236.pdf.\n",
    "Use the one denoted by naive algorithm in the document.\n",
    "\n",
    "Translation: k-means-clustering-Wikipedia.2002271236.pdf にある K平均法(naive algorithm)を実装せよ．\n",
    "\n",
    "\n",
    "\n",
    "\n",
    "1.2\n",
    "\n",
    "Plot 100 two-dimensional data points and plot by the following code:\n",
    "```\n",
    " ntras = 100;\n",
    " thets = rand(1,ntras)*(2*pi); \n",
    " radis = rand(1,ntras)*0.1+1.0; \n",
    " X     = [cos(thets);sin(thets)]*diag(radis); \n",
    " plot( X(1,:), X(2,:), 'ko' );\n",
    " csvwrite( 'k.X.csv', X' ); \n",
    "```\n",
    "\n",
    "\n",
    "1.3\n",
    "\n",
    "Set K=2 and record the value of Within-cluster sum of squares (WCSS). Plot WCSS against interation numbers. Verify that the curve is monotonically decreased.\n",
    "\n",
    "Translation: K=2 とし，Within-cluster sum of squares (WCSS) の値を記録しろ．横軸反復数，縦軸 WCSS として，グラフを描け．ヒント（関数 plot）．単調減少していることを確かめよ．\n",
    "\n",
    "\n",
    "\n",
    "\n",
    "1.4\n",
    "\n",
    "Plot K-means with K=2,3,4. Use different colors for different clusters. Use of function print_eps_and_png is recommended to generate figures.\n",
    "\n",
    "Translation: クラスタ数 2, 3, 4 の場合で K平均法を適用しろ．\n",
    "クラスタリング結果をもとに色付けしてプロットせよ．\n",
    "\n",
    "\n",
    "\n",
    "\n",
    "1.5\n",
    "\n",
    "Create the following function. The function applies K-means five times with different initial solutions. The solutions are chosen randomly. Find the minimal one from the five WCSS, and return the assignment associated with the minimal WCSS.\n",
    "\n",
    "Translation: 初期割当をランダムに選んで，５回 K 平均法を行い，最も J(U,V) が小さい結果を最終結果とするような関数を作れ．\n",
    "\n",
    "\n"
   ]
  },
  {
   "cell_type": "code",
   "execution_count": 17,
   "metadata": {},
   "outputs": [
    {
     "data": {
      "image/png": "[encoded data removed]",
      "text/plain": [
       "<Figure size 640x480 with 1 Axes>"
      ]
     },
     "metadata": {},
     "output_type": "display_data"
    }
   ],
   "source": [
    "import numpy as np\n",
    "import matplotlib.pyplot as plt\n",
    "\n",
    "ntras = 100\n",
    "thets = np.random.rand(ntras) * (2 * np.pi)\n",
    "radis = np.random.rand(ntras) * 0.1 + 1.0\n",
    "X = np.array([np.cos(thets), np.sin(thets)]) * radis\n",
    "plt.plot(X[0,:], X[1, :],'ko')\n",
    "plt.show()\n",
    "\n",
    "np.savetxt('kX.csv', X.T, delimiter=',')"
   ]
  },
  {
   "cell_type": "code",
   "execution_count": 18,
   "metadata": {},
   "outputs": [],
   "source": [
    "#import\n",
    "import pandas as pd\n",
    "import random\n",
    "import seaborn as sns\n",
    "import matplotlib.ticker\n",
    "from matplotlib import pyplot as plt\n",
    "from typing import List\n",
    "\n",
    "#A function that calculates the distance from a point to the mean\n",
    "def distance(l1: List[float], l2: List[float]) -> float:\n",
    "    assert len(l1) == len(l2)\n",
    "    return sum([(a1 - a2)**2 for a1, a2 in zip(l1, l2)])\n",
    "\n",
    "#A function that receives a data frame and the number of clusters as input\n",
    "def clustering(df: pd.DataFrame, n_clusters: int) -> List[int]:\n",
    "    columns = df.columns\n",
    "    \n",
    "    #Assignment of random coordinates to cluster centers\n",
    "    coord_means = [[random.random() for _ in range(len(columns))] for _ in range(n_clusters)]\n",
    "    close_mean1 = pd.Series([-1 for _ in range(df.shape[0])])\n",
    "    close_mean2 = pd.Series([-2 for _ in range(df.shape[0])])\n",
    "    \n",
    "    #The learning process stops when not a single point has changed its cluster during the iteration\n",
    "    while list(close_mean1) != list(close_mean2):\n",
    "        close_mean1 = close_mean2\n",
    "        close_mean2 = pd.Series([-1 for _ in range(df.shape[0])])\n",
    "        \n",
    "        #Finding the nearest cluster center for each point\n",
    "        for i in range(df.shape[0]):\n",
    "            dist = []\n",
    "            for coord_mean in coord_means:\n",
    "                dist.append(distance(list(df.iloc[i,]), coord_mean))\n",
    "            close_mean2[i] = dist.index(min(dist))\n",
    "        \n",
    "        #Calculation of new coordinates for cluster centers\n",
    "        for j, coord_mean in enumerate(coord_means):\n",
    "            if len(df[close_mean2 == j]) != 0:\n",
    "                for k, column in enumerate(columns):\n",
    "                    coord_mean[k] = df.loc[close_mean2 == j, column].mean()\n",
    "            else:\n",
    "                for k, column in enumerate(columns):\n",
    "                    coord_mean[k] = random.random()\n",
    "    \n",
    "    return close_mean2\n",
    "    "
   ]
  },
  {
   "cell_type": "code",
   "execution_count": 19,
   "metadata": {},
   "outputs": [
    {
     "data": {
      "text/plain": [
       "13    2\n",
       "14    2\n",
       "15    2\n",
       "16    2\n",
       "17    2\n",
       "     ..\n",
       "95    2\n",
       "96    2\n",
       "97    2\n",
       "98    2\n",
       "99    2\n",
       "Length: 87, dtype: int64"
      ]
     },
     "execution_count": 19,
     "metadata": {},
     "output_type": "execute_result"
    }
   ],
   "source": [
    "random.seed(1)\n",
    "df1 = pd.DataFrame(X)\n",
    "for i in range(1, 11):\n",
    "    df1[i] = clustering(df1, i)\n",
    "\n",
    "df1.iloc[:, 13:].nunique()"
   ]
  },
  {
   "cell_type": "code",
   "execution_count": 20,
   "metadata": {},
   "outputs": [
    {
     "ename": "AssertionError",
     "evalue": "",
     "output_type": "error",
     "traceback": [
      "\u001b[0;31m---------------------------------------------------------------------------\u001b[0m",
      "\u001b[0;31mAssertionError\u001b[0m                            Traceback (most recent call last)",
      "Cell \u001b[0;32mIn[20], line 12\u001b[0m\n\u001b[1;32m      9\u001b[0m     coord \u001b[38;5;241m=\u001b[39m \u001b[38;5;28mlist\u001b[39m(df1\u001b[38;5;241m.\u001b[39mloc[df1[i] \u001b[38;5;241m==\u001b[39m cluster, :\u001b[38;5;124m'\u001b[39m\u001b[38;5;124mProline\u001b[39m\u001b[38;5;124m'\u001b[39m]\u001b[38;5;241m.\u001b[39mmean())\n\u001b[1;32m     11\u001b[0m     \u001b[38;5;28;01mfor\u001b[39;00m ind \u001b[38;5;129;01min\u001b[39;00m df1\u001b[38;5;241m.\u001b[39mloc[df1[i] \u001b[38;5;241m==\u001b[39m cluster,]\u001b[38;5;241m.\u001b[39mindex:\n\u001b[0;32m---> 12\u001b[0m         s \u001b[38;5;241m+\u001b[39m\u001b[38;5;241m=\u001b[39m \u001b[43mdistance\u001b[49m\u001b[43m(\u001b[49m\u001b[38;5;28;43mlist\u001b[39;49m\u001b[43m(\u001b[49m\u001b[43mdf1\u001b[49m\u001b[38;5;241;43m.\u001b[39;49m\u001b[43miloc\u001b[49m\u001b[43m[\u001b[49m\u001b[43mind\u001b[49m\u001b[43m,\u001b[49m\u001b[43m \u001b[49m\u001b[43m:\u001b[49m\u001b[38;5;241;43m2\u001b[39;49m\u001b[43m]\u001b[49m\u001b[43m)\u001b[49m\u001b[43m,\u001b[49m\u001b[43mcoord\u001b[49m\u001b[43m)\u001b[49m\n\u001b[1;32m     14\u001b[0m n_clusters\u001b[38;5;241m.\u001b[39mappend(\u001b[38;5;28mlen\u001b[39m(clusters))\n\u001b[1;32m     15\u001b[0m sum_dist\u001b[38;5;241m.\u001b[39mappend(s)\n",
      "Cell \u001b[0;32mIn[18], line 11\u001b[0m, in \u001b[0;36mdistance\u001b[0;34m(l1, l2)\u001b[0m\n\u001b[1;32m     10\u001b[0m \u001b[38;5;28;01mdef\u001b[39;00m\u001b[38;5;250m \u001b[39m\u001b[38;5;21mdistance\u001b[39m(l1: List[\u001b[38;5;28mfloat\u001b[39m], l2: List[\u001b[38;5;28mfloat\u001b[39m]) \u001b[38;5;241m-\u001b[39m\u001b[38;5;241m>\u001b[39m \u001b[38;5;28mfloat\u001b[39m:\n\u001b[0;32m---> 11\u001b[0m     \u001b[38;5;28;01massert\u001b[39;00m \u001b[38;5;28mlen\u001b[39m(l1) \u001b[38;5;241m==\u001b[39m \u001b[38;5;28mlen\u001b[39m(l2)\n\u001b[1;32m     12\u001b[0m     \u001b[38;5;28;01mreturn\u001b[39;00m \u001b[38;5;28msum\u001b[39m([(a1 \u001b[38;5;241m-\u001b[39m a2)\u001b[38;5;241m*\u001b[39m\u001b[38;5;241m*\u001b[39m\u001b[38;5;241m2\u001b[39m \u001b[38;5;28;01mfor\u001b[39;00m a1, a2 \u001b[38;5;129;01min\u001b[39;00m \u001b[38;5;28mzip\u001b[39m(l1, l2)])\n",
      "\u001b[0;31mAssertionError\u001b[0m: "
     ]
    }
   ],
   "source": [
    "n_clusters = []\n",
    "sum_dist = []\n",
    "\n",
    "for i in range(1,11):\n",
    "    clusters = sorted(df1[i].unique())\n",
    "    s = 0\n",
    "    \n",
    "    for cluster in clusters:\n",
    "        coord = list(df1.loc[df1[i] == cluster, :'Proline'].mean())\n",
    "\n",
    "        for ind in df1.loc[df1[i] == cluster,].index:\n",
    "            s += distance(list(df1.iloc[ind, :2]),coord)\n",
    "    \n",
    "    n_clusters.append(len(clusters))\n",
    "    sum_dist.append(s)\n"
   ]
  },
  {
   "cell_type": "code",
   "execution_count": 21,
   "metadata": {},
   "outputs": [],
   "source": [
    "import pandas as pd\n",
    "import random\n",
    "import numpy as np\n",
    "from typing import List\n",
    "\n",
    "def distance_np(l1:np.ndarray, l2:np.ndarray) -> float:\n",
    "    return np.lialog.norm(l1 - l2)\n",
    "\n",
    "def clustering(df:pd.DataFrame, n_clusters:int) -> List[int]:\n",
    "    colums = df.columns\n",
    "    data = df.values\n",
    "    n_samples, n_feautures = data.shape\n",
    "\n",
    "    coord_means = data[np.random.choice(n_samples, n_clusters, replace=False)]\n",
    "\n",
    "    close_mean1 = np.full(n_samples, -1)\n",
    "    close_mean2 = np.full(n_samples, -2)\n",
    "\n",
    "    while not np.array_equal(close_mean1, close_mean2):\n",
    "        close_mean1 = close_mean2.copy()\n",
    "\n",
    "        for i in range(n_samples):\n",
    "            distances = [distance_np(data[i], coord) for coord in coord_means]\n",
    "            close_mean2[i] = np.argmin(distances)\n",
    "\n",
    "        for j in range(n_clusters):\n",
    "            cluster_points = data[close_mean2 == j]\n",
    "            if len(cluster_points) > 0:\n",
    "                coord_means[j] = cluster_points.mean(axis=0)\n",
    "            else:\n",
    "                coord_means[j] = data[np.random.choice(n_samples)]\n",
    "\n",
    "    return close_mean2.tolist"
   ]
  },
  {
   "cell_type": "code",
   "execution_count": 22,
   "metadata": {},
   "outputs": [
    {
     "ename": "ValueError",
     "evalue": "Cannot take a larger sample than population when 'replace=False'",
     "output_type": "error",
     "traceback": [
      "\u001b[0;31m---------------------------------------------------------------------------\u001b[0m",
      "\u001b[0;31mValueError\u001b[0m                                Traceback (most recent call last)",
      "Cell \u001b[0;32mIn[22], line 3\u001b[0m\n\u001b[1;32m      1\u001b[0m df1 \u001b[38;5;241m=\u001b[39m pd\u001b[38;5;241m.\u001b[39mDataFrame(X)\n\u001b[1;32m      2\u001b[0m \u001b[38;5;66;03m# クラスタリング実行\u001b[39;00m\n\u001b[0;32m----> 3\u001b[0m clusters \u001b[38;5;241m=\u001b[39m \u001b[43mclustering\u001b[49m\u001b[43m(\u001b[49m\u001b[43mdf\u001b[49m\u001b[43m,\u001b[49m\u001b[43m \u001b[49m\u001b[38;5;241;43m3\u001b[39;49m\u001b[43m)\u001b[49m\n\u001b[1;32m      4\u001b[0m \u001b[38;5;66;03m#df['cluster'] = clusters\u001b[39;00m\n\u001b[1;32m      5\u001b[0m \n\u001b[1;32m      6\u001b[0m \u001b[38;5;66;03m# 可視化\u001b[39;00m\n\u001b[1;32m      7\u001b[0m sns\u001b[38;5;241m.\u001b[39mscatterplot(data\u001b[38;5;241m=\u001b[39mdf1, x\u001b[38;5;241m=\u001b[39m\u001b[38;5;124m'\u001b[39m\u001b[38;5;124mx\u001b[39m\u001b[38;5;124m'\u001b[39m, y\u001b[38;5;241m=\u001b[39m\u001b[38;5;124m'\u001b[39m\u001b[38;5;124my\u001b[39m\u001b[38;5;124m'\u001b[39m)\n",
      "Cell \u001b[0;32mIn[21], line 14\u001b[0m, in \u001b[0;36mclustering\u001b[0;34m(df, n_clusters)\u001b[0m\n\u001b[1;32m     11\u001b[0m data \u001b[38;5;241m=\u001b[39m df\u001b[38;5;241m.\u001b[39mvalues\n\u001b[1;32m     12\u001b[0m n_samples, n_feautures \u001b[38;5;241m=\u001b[39m data\u001b[38;5;241m.\u001b[39mshape\n\u001b[0;32m---> 14\u001b[0m coord_means \u001b[38;5;241m=\u001b[39m data[\u001b[43mnp\u001b[49m\u001b[38;5;241;43m.\u001b[39;49m\u001b[43mrandom\u001b[49m\u001b[38;5;241;43m.\u001b[39;49m\u001b[43mchoice\u001b[49m\u001b[43m(\u001b[49m\u001b[43mn_samples\u001b[49m\u001b[43m,\u001b[49m\u001b[43m \u001b[49m\u001b[43mn_clusters\u001b[49m\u001b[43m,\u001b[49m\u001b[43m \u001b[49m\u001b[43mreplace\u001b[49m\u001b[38;5;241;43m=\u001b[39;49m\u001b[38;5;28;43;01mFalse\u001b[39;49;00m\u001b[43m)\u001b[49m]\n\u001b[1;32m     16\u001b[0m close_mean1 \u001b[38;5;241m=\u001b[39m np\u001b[38;5;241m.\u001b[39mfull(n_samples, \u001b[38;5;241m-\u001b[39m\u001b[38;5;241m1\u001b[39m)\n\u001b[1;32m     17\u001b[0m close_mean2 \u001b[38;5;241m=\u001b[39m np\u001b[38;5;241m.\u001b[39mfull(n_samples, \u001b[38;5;241m-\u001b[39m\u001b[38;5;241m2\u001b[39m)\n",
      "File \u001b[0;32mnumpy/random/mtrand.pyx:1020\u001b[0m, in \u001b[0;36mnumpy.random.mtrand.RandomState.choice\u001b[0;34m()\u001b[0m\n",
      "\u001b[0;31mValueError\u001b[0m: Cannot take a larger sample than population when 'replace=False'"
     ]
    }
   ],
   "source": [
    "df1 = pd.DataFrame(X)\n",
    "# クラスタリング実行\n",
    "clusters = clustering(df, 3)\n",
    "#df['cluster'] = clusters\n",
    "\n",
    "# 可視化\n",
    "sns.scatterplot(data=df1, x='x', y='y')\n",
    "plt.title('K-means Clustering')\n",
    "plt.show()\n"
   ]
  }
 ],
 "metadata": {
  "kernelspec": {
   "display_name": ".venv",
   "language": "python",
   "name": "python3"
  },
  "language_info": {
   "codemirror_mode": {
    "name": "ipython",
    "version": 3
   },
   "file_extension": ".py",
   "mimetype": "text/x-python",
   "name": "python",
   "nbconvert_exporter": "python",
   "pygments_lexer": "ipython3",
   "version": "3.12.7"
  }
 },
 "nbformat": 4,
 "nbformat_minor": 2
}
