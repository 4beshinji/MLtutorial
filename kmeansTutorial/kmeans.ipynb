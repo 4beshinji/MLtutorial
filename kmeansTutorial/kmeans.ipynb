{
 "cells": [
  {
   "cell_type": "markdown",
   "metadata": {
    "vscode": {
     "languageId": "plaintext"
    }
   },
   "source": [
    "Exercises\n",
    "\n",
    "1.1\n",
    "\n",
    "Implement K-means described in k-means-clustering-Wikipedia.2002271236.pdf.\n",
    "Use the one denoted by naive algorithm in the document.\n",
    "\n",
    "Translation: k-means-clustering-Wikipedia.2002271236.pdf にある K平均法(naive algorithm)を実装せよ．\n",
    "\n",
    "\n",
    "\n",
    "\n",
    "1.2\n",
    "\n",
    "Plot 100 two-dimensional data points and plot by the following code:\n",
    "```\n",
    " ntras = 100;\n",
    " thets = rand(1,ntras)*(2*pi); \n",
    " radis = rand(1,ntras)*0.1+1.0; \n",
    " X     = [cos(thets);sin(thets)]*diag(radis); \n",
    " plot( X(1,:), X(2,:), 'ko' );\n",
    " csvwrite( 'k.X.csv', X' ); \n",
    "```\n",
    "\n",
    "\n",
    "1.3\n",
    "\n",
    "Set K=2 and record the value of Within-cluster sum of squares (WCSS). Plot WCSS against interation numbers. Verify that the curve is monotonically decreased.\n",
    "\n",
    "Translation: K=2 とし，Within-cluster sum of squares (WCSS) の値を記録しろ．横軸反復数，縦軸 WCSS として，グラフを描け．ヒント（関数 plot）．単調減少していることを確かめよ．\n",
    "\n",
    "\n",
    "\n",
    "\n",
    "1.4\n",
    "\n",
    "Plot K-means with K=2,3,4. Use different colors for different clusters. Use of function print_eps_and_png is recommended to generate figures.\n",
    "\n",
    "Translation: クラスタ数 2, 3, 4 の場合で K平均法を適用しろ．\n",
    "クラスタリング結果をもとに色付けしてプロットせよ．\n",
    "\n",
    "\n",
    "\n",
    "\n",
    "1.5\n",
    "\n",
    "Create the following function. The function applies K-means five times with different initial solutions. The solutions are chosen randomly. Find the minimal one from the five WCSS, and return the assignment associated with the minimal WCSS.\n",
    "\n",
    "Translation: 初期割当をランダムに選んで，５回 K 平均法を行い，最も J(U,V) が小さい結果を最終結果とするような関数を作れ．\n",
    "\n",
    "\n"
   ]
  },
  {
   "cell_type": "code",
   "execution_count": 3,
   "metadata": {},
   "outputs": [
    {
     "data": {
      "image/png": "[encoded data removed]",
      "text/plain": [
       "<Figure size 640x480 with 1 Axes>"
      ]
     },
     "metadata": {},
     "output_type": "display_data"
    }
   ],
   "source": [
    "import numpy as np\n",
    "import matplotlib.pyplot as plt\n",
    "\n",
    "ntras = 100\n",
    "thets = np.random.rand(ntras) * (2 * np.pi)\n",
    "radis = np.random.rand(ntras) * 0.1 + 1.0\n",
    "X = np.array([np.cos(thets), np.sin(thets)]) * radis\n",
    "plt.plot(X[0,:], X[1, :],'ko')\n",
    "plt.show()\n",
    "\n",
    "np.savetxt('k.Xcsv', X.T, delimiter=',')"
   ]
  },
  {
   "cell_type": "code",
   "execution_count": null,
   "metadata": {},
   "outputs": [
    {
     "ename": "SyntaxError",
     "evalue": "invalid syntax. Perhaps you forgot a comma? (1533630187.py, line 19)",
     "output_type": "error",
     "traceback": [
      "\u001b[0;36m  Cell \u001b[0;32mIn[12], line 19\u001b[0;36m\u001b[0m\n\u001b[0;31m    close_mean1 = pd.Series([-1 dor _ in range(df.shape[0])])\u001b[0m\n\u001b[0m                             ^\u001b[0m\n\u001b[0;31mSyntaxError\u001b[0m\u001b[0;31m:\u001b[0m invalid syntax. Perhaps you forgot a comma?\n"
     ]
    }
   ],
   "source": [
    "#import\n",
    "import pandas as pd\n",
    "import random\n",
    "import seaborn as sns\n",
    "import matplotlib.ticker\n",
    "from matplotlib import pyplot as plt\n",
    "from typing import List\n",
    "\n",
    "#Algorithm implementation\n",
    "#A function that caluculates the distance from a point to the mean\n",
    "def distance(l1: List[float], l2:List[float]) -> float:\n",
    "    assert len(l1) == len (l2)\n",
    "    return sum([a1 -a2]**2 for a1, a2 in zip(l1, l2))\n",
    "def clustering(df: pd.DataFrame, n_clusters:int) -> List[int]:\n",
    "    columns = df.columns\n",
    "\n",
    "    #Assignment of random corrdinates to cluster centers\n",
    "    coord_means = [[random.random() for _ in range(len(columns))]for _ in range(n_clusters)]\n",
    "    close_mean1 = pd.Series([-1 for _ in range(df.shape[0])])\n",
    "    close_mean2 = pd.Series([-2 for _ in range(df.shape[0])])\n",
    "\n",
    "#The learnig process stps when not a single point has changed its cluster during the iteration\n",
    "while list(close_mean1) != list(close_mean2):\n",
    "    close_mean1 = close_mean2\n",
    "    "
   ]
  },
  {
   "cell_type": "code",
   "execution_count": 7,
   "metadata": {},
   "outputs": [
    {
     "name": "stdout",
     "output_type": "stream",
     "text": [
      "\u001b[2mUsing Python 3.10.12 environment at: /home/sin/code/MLtutorial/.venv\u001b[0m\n",
      "\u001b[2K\u001b[2mResolved \u001b[1m1 package\u001b[0m \u001b[2min 145ms\u001b[0m\u001b[0m                                          \u001b[0m\n",
      "\u001b[2K\u001b[37m⠙\u001b[0m \u001b[2mPreparing packages...\u001b[0m (0/1)                                                   \n",
      "\u001b[2K\u001b[1A\u001b[37m⠙\u001b[0m \u001b[2mPreparing packages...\u001b[0m (0/1)----\u001b[0m\u001b[0m     0 B/25.70 KiB                     \u001b[1A\n",
      "\u001b[2K\u001b[1A\u001b[37m⠙\u001b[0m \u001b[2mPreparing packages...\u001b[0m (0/1)----\u001b[0m\u001b[0m 16.00 KiB/25.70 KiB                   \u001b[1A\n",
      "\u001b[2K\u001b[2mPrepared \u001b[1m1 package\u001b[0m \u001b[2min 13ms\u001b[0m\u001b[0m                                                   \u001b[1A\n",
      "\u001b[2K\u001b[2mInstalled \u001b[1m1 package\u001b[0m \u001b[2min 2ms\u001b[0m\u001b[0m                                  \u001b[0m\n",
      " \u001b[32m+\u001b[39m \u001b[1mtyping\u001b[0m\u001b[2m==3.10.0.0\u001b[0m\n"
     ]
    }
   ],
   "source": [
    "!uv pip install typing"
   ]
  }
 ],
 "metadata": {
  "kernelspec": {
   "display_name": ".venv",
   "language": "python",
   "name": "python3"
  },
  "language_info": {
   "codemirror_mode": {
    "name": "ipython",
    "version": 3
   },
   "file_extension": ".py",
   "mimetype": "text/x-python",
   "name": "python",
   "nbconvert_exporter": "python",
   "pygments_lexer": "ipython3",
   "version": "3.10.12"
  }
 },
 "nbformat": 4,
 "nbformat_minor": 2
}
